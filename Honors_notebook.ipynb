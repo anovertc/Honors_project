{
 "cells": [
  {
   "cell_type": "code",
   "execution_count": 57,
   "id": "7dc5921c",
   "metadata": {},
   "outputs": [
    {
     "data": {
      "text/plain": [
       "'\\nHow can we detect fake news and what can give us the best accuracy?\\n\\n'"
      ]
     },
     "execution_count": 57,
     "metadata": {},
     "output_type": "execute_result"
    }
   ],
   "source": [
    "\"\"\"\n",
    "How can we detect fake news and what can give us the best accuracy?\n",
    "\n",
    "\"\"\""
   ]
  },
  {
   "cell_type": "code",
   "execution_count": 58,
   "id": "32efc4c8",
   "metadata": {},
   "outputs": [
    {
     "name": "stdout",
     "output_type": "stream",
     "text": [
      "The autoreload extension is already loaded. To reload it, use:\n",
      "  %reload_ext autoreload\n"
     ]
    },
    {
     "data": {
      "text/html": [
       "<div>\n",
       "<style scoped>\n",
       "    .dataframe tbody tr th:only-of-type {\n",
       "        vertical-align: middle;\n",
       "    }\n",
       "\n",
       "    .dataframe tbody tr th {\n",
       "        vertical-align: top;\n",
       "    }\n",
       "\n",
       "    .dataframe thead th {\n",
       "        text-align: right;\n",
       "    }\n",
       "</style>\n",
       "<table border=\"1\" class=\"dataframe\">\n",
       "  <thead>\n",
       "    <tr style=\"text-align: right;\">\n",
       "      <th></th>\n",
       "      <th>author</th>\n",
       "      <th>published</th>\n",
       "      <th>title</th>\n",
       "      <th>text</th>\n",
       "      <th>language</th>\n",
       "      <th>site_url</th>\n",
       "      <th>main_img_url</th>\n",
       "      <th>type</th>\n",
       "      <th>label</th>\n",
       "      <th>title_without_stopwords</th>\n",
       "      <th>text_without_stopwords</th>\n",
       "      <th>hasImage</th>\n",
       "    </tr>\n",
       "  </thead>\n",
       "  <tbody>\n",
       "    <tr>\n",
       "      <th>0</th>\n",
       "      <td>Barracuda Brigade</td>\n",
       "      <td>2016-10-26T21:41:00.000+03:00</td>\n",
       "      <td>muslims busted they stole millions in govt ben...</td>\n",
       "      <td>print they should pay all the back all the mon...</td>\n",
       "      <td>english</td>\n",
       "      <td>100percentfedup.com</td>\n",
       "      <td>http://bb4sp.com/wp-content/uploads/2016/10/Fu...</td>\n",
       "      <td>bias</td>\n",
       "      <td>Real</td>\n",
       "      <td>muslims busted stole millions govt benefits</td>\n",
       "      <td>print pay back money plus interest entire fami...</td>\n",
       "      <td>1.0</td>\n",
       "    </tr>\n",
       "    <tr>\n",
       "      <th>1</th>\n",
       "      <td>reasoning with facts</td>\n",
       "      <td>2016-10-29T08:47:11.259+03:00</td>\n",
       "      <td>re why did attorney general loretta lynch plea...</td>\n",
       "      <td>why did attorney general loretta lynch plead t...</td>\n",
       "      <td>english</td>\n",
       "      <td>100percentfedup.com</td>\n",
       "      <td>http://bb4sp.com/wp-content/uploads/2016/10/Fu...</td>\n",
       "      <td>bias</td>\n",
       "      <td>Real</td>\n",
       "      <td>attorney general loretta lynch plead fifth</td>\n",
       "      <td>attorney general loretta lynch plead fifth bar...</td>\n",
       "      <td>1.0</td>\n",
       "    </tr>\n",
       "    <tr>\n",
       "      <th>2</th>\n",
       "      <td>Barracuda Brigade</td>\n",
       "      <td>2016-10-31T01:41:49.479+02:00</td>\n",
       "      <td>breaking weiner cooperating with fbi on hillar...</td>\n",
       "      <td>red state  \\nfox news sunday reported this mor...</td>\n",
       "      <td>english</td>\n",
       "      <td>100percentfedup.com</td>\n",
       "      <td>http://bb4sp.com/wp-content/uploads/2016/10/Fu...</td>\n",
       "      <td>bias</td>\n",
       "      <td>Real</td>\n",
       "      <td>breaking weiner cooperating fbi hillary email ...</td>\n",
       "      <td>red state fox news sunday reported morning ant...</td>\n",
       "      <td>1.0</td>\n",
       "    </tr>\n",
       "    <tr>\n",
       "      <th>3</th>\n",
       "      <td>Fed Up</td>\n",
       "      <td>2016-11-01T05:22:00.000+02:00</td>\n",
       "      <td>pin drop speech by father of daughter kidnappe...</td>\n",
       "      <td>email kayla mueller was a prisoner and torture...</td>\n",
       "      <td>english</td>\n",
       "      <td>100percentfedup.com</td>\n",
       "      <td>http://100percentfedup.com/wp-content/uploads/...</td>\n",
       "      <td>bias</td>\n",
       "      <td>Real</td>\n",
       "      <td>pin drop speech father daughter kidnapped kill...</td>\n",
       "      <td>email kayla mueller prisoner tortured isis cha...</td>\n",
       "      <td>1.0</td>\n",
       "    </tr>\n",
       "    <tr>\n",
       "      <th>4</th>\n",
       "      <td>Fed Up</td>\n",
       "      <td>2016-11-01T21:56:00.000+02:00</td>\n",
       "      <td>fantastic trumps  point plan to reform healthc...</td>\n",
       "      <td>email healthcare reform to make america great ...</td>\n",
       "      <td>english</td>\n",
       "      <td>100percentfedup.com</td>\n",
       "      <td>http://100percentfedup.com/wp-content/uploads/...</td>\n",
       "      <td>bias</td>\n",
       "      <td>Real</td>\n",
       "      <td>fantastic trumps point plan reform healthcare ...</td>\n",
       "      <td>email healthcare reform make america great sin...</td>\n",
       "      <td>1.0</td>\n",
       "    </tr>\n",
       "    <tr>\n",
       "      <th>...</th>\n",
       "      <td>...</td>\n",
       "      <td>...</td>\n",
       "      <td>...</td>\n",
       "      <td>...</td>\n",
       "      <td>...</td>\n",
       "      <td>...</td>\n",
       "      <td>...</td>\n",
       "      <td>...</td>\n",
       "      <td>...</td>\n",
       "      <td>...</td>\n",
       "      <td>...</td>\n",
       "      <td>...</td>\n",
       "    </tr>\n",
       "    <tr>\n",
       "      <th>2091</th>\n",
       "      <td>-NO AUTHOR-</td>\n",
       "      <td>2016-10-27T15:36:10.573+03:00</td>\n",
       "      <td>teens walk free after gangrape conviction</td>\n",
       "      <td></td>\n",
       "      <td>english</td>\n",
       "      <td>wnd.com</td>\n",
       "      <td>http://www.wnd.com/files/2016/10/hillary_haunt...</td>\n",
       "      <td>bias</td>\n",
       "      <td>Real</td>\n",
       "      <td>good samaritan wearing indian headdress disarm...</td>\n",
       "      <td></td>\n",
       "      <td>1.0</td>\n",
       "    </tr>\n",
       "    <tr>\n",
       "      <th>2092</th>\n",
       "      <td>-NO AUTHOR-</td>\n",
       "      <td>2016-10-27T15:36:10.671+03:00</td>\n",
       "      <td>school named for munichmassacre mastermind</td>\n",
       "      <td></td>\n",
       "      <td>english</td>\n",
       "      <td>wnd.com</td>\n",
       "      <td>http://www.wnd.com/files/2016/10/rambo_richard...</td>\n",
       "      <td>bias</td>\n",
       "      <td>Real</td>\n",
       "      <td>skype sex scam fortune built shame</td>\n",
       "      <td></td>\n",
       "      <td>1.0</td>\n",
       "    </tr>\n",
       "    <tr>\n",
       "      <th>2093</th>\n",
       "      <td>-NO AUTHOR-</td>\n",
       "      <td>2016-10-27T13:30:00.000+03:00</td>\n",
       "      <td>russia unveils satan  missile</td>\n",
       "      <td></td>\n",
       "      <td>english</td>\n",
       "      <td>wnd.com</td>\n",
       "      <td>http://www.wnd.com/files/2016/10/skype_sex_sca...</td>\n",
       "      <td>bs</td>\n",
       "      <td>Fake</td>\n",
       "      <td>cannabis aficionados develop thca crystalline ...</td>\n",
       "      <td></td>\n",
       "      <td>1.0</td>\n",
       "    </tr>\n",
       "    <tr>\n",
       "      <th>2094</th>\n",
       "      <td>-NO AUTHOR-</td>\n",
       "      <td>2016-10-27T15:58:41.935+03:00</td>\n",
       "      <td>check out hillarythemed haunted house</td>\n",
       "      <td></td>\n",
       "      <td>english</td>\n",
       "      <td>wnd.com</td>\n",
       "      <td>http://worldtruth.tv/wp-content/uploads/2016/1...</td>\n",
       "      <td>bs</td>\n",
       "      <td>Fake</td>\n",
       "      <td>title</td>\n",
       "      <td></td>\n",
       "      <td>0.0</td>\n",
       "    </tr>\n",
       "    <tr>\n",
       "      <th>2095</th>\n",
       "      <td>Eddy Lavine</td>\n",
       "      <td>2016-10-28T01:02:00.000+03:00</td>\n",
       "      <td>cannabis aficionados develop thca crystalline ...</td>\n",
       "      <td></td>\n",
       "      <td></td>\n",
       "      <td></td>\n",
       "      <td></td>\n",
       "      <td></td>\n",
       "      <td></td>\n",
       "      <td></td>\n",
       "      <td></td>\n",
       "      <td></td>\n",
       "    </tr>\n",
       "  </tbody>\n",
       "</table>\n",
       "<p>2096 rows × 12 columns</p>\n",
       "</div>"
      ],
      "text/plain": [
       "                    author                      published  \\\n",
       "0        Barracuda Brigade  2016-10-26T21:41:00.000+03:00   \n",
       "1     reasoning with facts  2016-10-29T08:47:11.259+03:00   \n",
       "2        Barracuda Brigade  2016-10-31T01:41:49.479+02:00   \n",
       "3                   Fed Up  2016-11-01T05:22:00.000+02:00   \n",
       "4                   Fed Up  2016-11-01T21:56:00.000+02:00   \n",
       "...                    ...                            ...   \n",
       "2091           -NO AUTHOR-  2016-10-27T15:36:10.573+03:00   \n",
       "2092           -NO AUTHOR-  2016-10-27T15:36:10.671+03:00   \n",
       "2093           -NO AUTHOR-  2016-10-27T13:30:00.000+03:00   \n",
       "2094           -NO AUTHOR-  2016-10-27T15:58:41.935+03:00   \n",
       "2095           Eddy Lavine  2016-10-28T01:02:00.000+03:00   \n",
       "\n",
       "                                                  title  \\\n",
       "0     muslims busted they stole millions in govt ben...   \n",
       "1     re why did attorney general loretta lynch plea...   \n",
       "2     breaking weiner cooperating with fbi on hillar...   \n",
       "3     pin drop speech by father of daughter kidnappe...   \n",
       "4     fantastic trumps  point plan to reform healthc...   \n",
       "...                                                 ...   \n",
       "2091          teens walk free after gangrape conviction   \n",
       "2092         school named for munichmassacre mastermind   \n",
       "2093                      russia unveils satan  missile   \n",
       "2094              check out hillarythemed haunted house   \n",
       "2095  cannabis aficionados develop thca crystalline ...   \n",
       "\n",
       "                                                   text language  \\\n",
       "0     print they should pay all the back all the mon...  english   \n",
       "1     why did attorney general loretta lynch plead t...  english   \n",
       "2     red state  \\nfox news sunday reported this mor...  english   \n",
       "3     email kayla mueller was a prisoner and torture...  english   \n",
       "4     email healthcare reform to make america great ...  english   \n",
       "...                                                 ...      ...   \n",
       "2091                                                     english   \n",
       "2092                                                     english   \n",
       "2093                                                     english   \n",
       "2094                                                     english   \n",
       "2095                                                               \n",
       "\n",
       "                 site_url                                       main_img_url  \\\n",
       "0     100percentfedup.com  http://bb4sp.com/wp-content/uploads/2016/10/Fu...   \n",
       "1     100percentfedup.com  http://bb4sp.com/wp-content/uploads/2016/10/Fu...   \n",
       "2     100percentfedup.com  http://bb4sp.com/wp-content/uploads/2016/10/Fu...   \n",
       "3     100percentfedup.com  http://100percentfedup.com/wp-content/uploads/...   \n",
       "4     100percentfedup.com  http://100percentfedup.com/wp-content/uploads/...   \n",
       "...                   ...                                                ...   \n",
       "2091              wnd.com  http://www.wnd.com/files/2016/10/hillary_haunt...   \n",
       "2092              wnd.com  http://www.wnd.com/files/2016/10/rambo_richard...   \n",
       "2093              wnd.com  http://www.wnd.com/files/2016/10/skype_sex_sca...   \n",
       "2094              wnd.com  http://worldtruth.tv/wp-content/uploads/2016/1...   \n",
       "2095                                                                           \n",
       "\n",
       "      type label                            title_without_stopwords  \\\n",
       "0     bias  Real        muslims busted stole millions govt benefits   \n",
       "1     bias  Real         attorney general loretta lynch plead fifth   \n",
       "2     bias  Real  breaking weiner cooperating fbi hillary email ...   \n",
       "3     bias  Real  pin drop speech father daughter kidnapped kill...   \n",
       "4     bias  Real  fantastic trumps point plan reform healthcare ...   \n",
       "...    ...   ...                                                ...   \n",
       "2091  bias  Real  good samaritan wearing indian headdress disarm...   \n",
       "2092  bias  Real                 skype sex scam fortune built shame   \n",
       "2093    bs  Fake  cannabis aficionados develop thca crystalline ...   \n",
       "2094    bs  Fake                                              title   \n",
       "2095                                                                  \n",
       "\n",
       "                                 text_without_stopwords hasImage  \n",
       "0     print pay back money plus interest entire fami...      1.0  \n",
       "1     attorney general loretta lynch plead fifth bar...      1.0  \n",
       "2     red state fox news sunday reported morning ant...      1.0  \n",
       "3     email kayla mueller prisoner tortured isis cha...      1.0  \n",
       "4     email healthcare reform make america great sin...      1.0  \n",
       "...                                                 ...      ...  \n",
       "2091                                                         1.0  \n",
       "2092                                                         1.0  \n",
       "2093                                                         1.0  \n",
       "2094                                                         0.0  \n",
       "2095                                                              \n",
       "\n",
       "[2096 rows x 12 columns]"
      ]
     },
     "execution_count": 58,
     "metadata": {},
     "output_type": "execute_result"
    }
   ],
   "source": [
    "import pandas as pd\n",
    "import numpy as np\n",
    "import matplotlib.pyplot as plt\n",
    "%matplotlib inline\n",
    "from sklearn.model_selection import train_test_split\n",
    "\"\"\"\n",
    "TfidTransformer = Used to transform a count matric (A matrix with the amount of words that appearing the article)\n",
    "\n",
    "CountVectorizer = \n",
    "\n",
    "TfidVectorizer = \n",
    "\"\"\"\n",
    "from sklearn.naive_bayes import MultinomialNB\n",
    "from sklearn.feature_extraction.text import TfidfTransformer\n",
    "from sklearn.feature_extraction.text import CountVectorizer\n",
    "from sklearn.feature_extraction.text import TfidfVectorizer\n",
    "%load_ext autoreload\n",
    "%autoreload 2\n",
    "\n",
    "\n",
    "\n",
    "news_dataset = pd.read_csv(\"news_articles.csv\")\n",
    "news_dataset = news_dataset.fillna(' ')\n",
    "news_dataset.dropna()\n",
    "\n",
    "title_vector = news_dataset['title_without_stopwords']\n",
    "text_vector = news_dataset[\"text_without_stopwords\"]\n",
    "\n",
    "news_dataset"
   ]
  },
  {
   "cell_type": "code",
   "execution_count": 59,
   "id": "e53e145f",
   "metadata": {},
   "outputs": [],
   "source": [
    "def real_tf(news_dataset):\n",
    "    real_data = news_dataset[\"label\"] == \"Real\"\n",
    "    real_df = news_dataset[real_data]\n",
    "    words = real_df[\"text_without_stopwords\"]\n",
    "   \n",
    "       \n",
    "    \n",
    "    return word_count(words)\n",
    "\n",
    "def fake_tf(news_dataset):\n",
    "    fake_data = news_dataset[\"label\"] == \"Fake\"\n",
    "    fake_df = news_dataset[fake_data]\n",
    "    words = fake_df[\"text_without_stopwords\"]  \n",
    "    return word_count(words)\n",
    " \n",
    "\n",
    "def word_count(paragraphs):\n",
    "    real = CountVectorizer()\n",
    "    real.fit_transform(paragraphs)\n",
    "    real_terms = real.transform(paragraphs)\n",
    "    real_terms = real_terms.toarray()\n",
    "    phrases = real.get_feature_names()\n",
    "    length = len(real_terms[0])\n",
    "    word_list = []\n",
    "    j = 0 \n",
    "    \n",
    "    while j < length:\n",
    "        count = 0\n",
    "        for i in range(len(real_terms)):\n",
    "            array = real_terms[i]\n",
    "            word_count = array[j]\n",
    "            count += word_count\n",
    "        word_list.append(count)\n",
    "        j += 1\n",
    "    return word_list,phrases\n",
    "        \n",
    "\n",
    "\n",
    "\n",
    "\n",
    "\n",
    "\n",
    "\n",
    "\n",
    "\n"
   ]
  },
  {
   "cell_type": "code",
   "execution_count": 60,
   "id": "b9070f26",
   "metadata": {},
   "outputs": [],
   "source": [
    "real_words_count,real_words= real_tf(news_dataset)"
   ]
  },
  {
   "cell_type": "code",
   "execution_count": 61,
   "id": "87c48faf",
   "metadata": {},
   "outputs": [],
   "source": [
    "fake_words_count,fake_words = fake_tf(news_dataset)"
   ]
  },
  {
   "cell_type": "code",
   "execution_count": 62,
   "id": "0b474343",
   "metadata": {},
   "outputs": [],
   "source": [
    "def title_real(news_dataset):\n",
    "    real_data = news_dataset[\"label\"] == \"Real\"\n",
    "    real_df = news_dataset[real_data]\n",
    "    title = real_df[\"title_without_stopwords\"]\n",
    "   \n",
    "    return title_count(title)\n",
    "\n",
    "def title_fake(news_dataset):\n",
    "    fake_data = news_dataset[\"label\"] == \"Fake\"\n",
    "    fake_df = news_dataset[fake_data]\n",
    "    title = fake_df[\"title_without_stopwords\"]\n",
    "    return title_count(title)\n",
    "\n",
    "def title_count(titles):\n",
    "    title = CountVectorizer()\n",
    "    title.fit_transform(titles)\n",
    "    title_terms = title.transform(titles)\n",
    "    title_terms = title_terms.toarray()\n",
    "    title_phrases = title.get_feature_names()\n",
    "    title_length = len(title_terms[0])\n",
    "    title_word_list = []\n",
    "    j = 0 \n",
    "    \n",
    "    while j < title_length:\n",
    "        count = 0\n",
    "        for i in range(len(title_terms)):\n",
    "            array = title_terms[i]\n",
    "            word_count = array[j]\n",
    "            count += word_count\n",
    "        title_word_list.append(count)\n",
    "        j += 1\n",
    "    return title_word_list,title_phrases"
   ]
  },
  {
   "cell_type": "code",
   "execution_count": 63,
   "id": "7607e215",
   "metadata": {},
   "outputs": [],
   "source": [
    "real_titles_count,real_titles = title_real(news_dataset)"
   ]
  },
  {
   "cell_type": "code",
   "execution_count": 64,
   "id": "7f0e3e11",
   "metadata": {},
   "outputs": [],
   "source": [
    "fake_titles_count,fake_titles = title_fake(news_dataset)"
   ]
  },
  {
   "cell_type": "code",
   "execution_count": 65,
   "id": "77bc9c94",
   "metadata": {},
   "outputs": [],
   "source": [
    "real_words_sorted = sorted(real_words_count)\n",
    "real_word_list = real_words_sorted[-10:]\n",
    "most_words_real = []\n",
    "for i in range(len(real_word_list)):\n",
    "    index_val = real_words_count.index(real_word_list[i])\n",
    "    most_words_real.append(real_words[index_val])\n",
    "\n",
    "fake_words_sorted = sorted(fake_words_count)\n",
    "fake_word_list = fake_words_sorted[-10:]\n",
    "most_words_fake = []\n",
    "for i in range(len(fake_word_list)):\n",
    "    index_val = fake_words_count.index(fake_word_list[i])\n",
    "    most_words_fake.append(fake_words[index_val])"
   ]
  },
  {
   "cell_type": "code",
   "execution_count": 66,
   "id": "59704f21",
   "metadata": {},
   "outputs": [
    {
     "name": "stdout",
     "output_type": "stream",
     "text": [
      "[648, 671, 757, 861, 947, 963, 980, 994, 1028, 1419] \n",
      " ['also', 'like', 'hillary', 'would', 'one', 'said', 'us', 'people', 'clinton', 'trump']\n",
      "[1001, 1085, 1277, 1290, 1352, 1365, 1369, 1421, 1963, 2024] \n",
      " ['like', 'also', 'people', 'hillary', 'would', 'said', 'us', 'one', 'trump', 'clinton']\n"
     ]
    }
   ],
   "source": [
    "print(real_word_list, '\\n', most_words_real)\n",
    "print(fake_word_list, '\\n', most_words_fake)"
   ]
  },
  {
   "cell_type": "code",
   "execution_count": 121,
   "id": "5e0c1e88",
   "metadata": {},
   "outputs": [
    {
     "data": {
      "text/plain": [
       "<matplotlib.legend.Legend at 0x7fdfb6c72c40>"
      ]
     },
     "execution_count": 121,
     "metadata": {},
     "output_type": "execute_result"
    },
    {
     "data": {
      "image/png": "[encoded data removed]",
      "text/plain": [
       "<Figure size 576x720 with 1 Axes>"
      ]
     },
     "metadata": {
      "needs_background": "light"
     },
     "output_type": "display_data"
    }
   ],
   "source": [
    "plt.figure(figsize = (8,10))\n",
    "plt.bar(most_words_fake,fake_word_list, label = \"Fake\")\n",
    "plt.bar(most_words_real,real_word_list, label = \"Real\")\n",
    "plt.xlabel(\"Terms\")\n",
    "plt.ylabel(\"Frequency\")\n",
    "plt.title(\"Highest frequencies of terms in the articles\")\n",
    "plt.legend()"
   ]
  },
  {
   "cell_type": "code",
   "execution_count": 68,
   "id": "7eaca413",
   "metadata": {},
   "outputs": [],
   "source": [
    "real_title_sorted = sorted(real_titles_count)\n",
    "real_title_list = real_title_sorted[-10:]\n",
    "most_titles_real = []\n",
    "for i in range(len(real_title_list)):\n",
    "    index_val = real_titles_count.index(real_title_list[i])\n",
    "    most_titles_real.append(real_titles[index_val])\n",
    "\n",
    "fake_titles_sorted = sorted(fake_titles_count)\n",
    "fake_titles_list = fake_titles_sorted[-10:]\n",
    "most_titles_fake = []\n",
    "for i in range(len(fake_titles_list)):\n",
    "    index_val = fake_titles_count.index(fake_titles_list[i])\n",
    "    most_titles_fake.append(fake_titles[index_val])\n",
    "\n",
    "\n"
   ]
  },
  {
   "cell_type": "code",
   "execution_count": 69,
   "id": "6d1fd7eb",
   "metadata": {},
   "outputs": [
    {
     "name": "stdout",
     "output_type": "stream",
     "text": [
      "[30, 31, 31, 34, 35, 37, 64, 71, 89, 159] \n",
      " ['donald', 'duke', 'duke', 'fbi', 'us', 'election', 'clinton', 'hillary', 'title', 'trump']\n",
      "[44, 47, 51, 52, 57, 59, 98, 123, 128, 136] \n",
      " ['news', 'life', 'election', 'gorafi', 'le', 'us', 'title', 'clinton', 'hillary', 'trump']\n"
     ]
    }
   ],
   "source": [
    "print(real_title_list, '\\n', most_titles_real)\n",
    "print(fake_titles_list, '\\n', most_titles_fake)\n"
   ]
  },
  {
   "cell_type": "code",
   "execution_count": 70,
   "id": "906e340a",
   "metadata": {},
   "outputs": [
    {
     "name": "stdout",
     "output_type": "stream",
     "text": [
      "25562\n",
      "37161\n"
     ]
    }
   ],
   "source": [
    "print(len(real_words_sorted))\n",
    "print(len(fake_words_sorted))"
   ]
  },
  {
   "cell_type": "code",
   "execution_count": 71,
   "id": "6d3c0a13",
   "metadata": {
    "scrolled": false
   },
   "outputs": [
    {
     "data": {
      "text/plain": [
       "<matplotlib.legend.Legend at 0x7fdffa251dc0>"
      ]
     },
     "execution_count": 71,
     "metadata": {},
     "output_type": "execute_result"
    },
    {
     "data": {
      "image/png": "[encoded data removed]",
      "text/plain": [
       "<Figure size 576x720 with 1 Axes>"
      ]
     },
     "metadata": {
      "needs_background": "light"
     },
     "output_type": "display_data"
    }
   ],
   "source": [
    "plt.figure(figsize = (8,10))\n",
    "plt.bar(most_titles_fake,fake_titles_list, label = \"Fake\")\n",
    "plt.bar(most_titles_real,real_title_list, label = 'Real')\n",
    "\n",
    "plt.xlabel(\"Terms\")\n",
    "plt.ylabel(\"Frequency\")\n",
    "plt.title(\"Most frequent terms in the title\")\n",
    "plt.legend()"
   ]
  },
  {
   "cell_type": "code",
   "execution_count": 145,
   "id": "21e5091b",
   "metadata": {},
   "outputs": [
    {
     "data": {
      "text/plain": [
       "array([[0, 0, 0, ..., 0, 0, 0],\n",
       "       [0, 0, 0, ..., 0, 0, 0],\n",
       "       [0, 0, 0, ..., 0, 0, 0],\n",
       "       ...,\n",
       "       [0, 0, 0, ..., 0, 0, 0],\n",
       "       [0, 0, 0, ..., 0, 0, 0],\n",
       "       [0, 0, 0, ..., 0, 0, 0]])"
      ]
     },
     "execution_count": 145,
     "metadata": {},
     "output_type": "execute_result"
    }
   ],
   "source": [
    "count_vectorizer = CountVectorizer()\n",
    "count_vectorizer.fit_transform(text_vector)\n",
    "term_matrix = count_vectorizer.transform(text_vector)\n",
    "term_matrix = term_matrix.toarray()\n"
   ]
  },
  {
   "cell_type": "code",
   "execution_count": 73,
   "id": "e57b9cdb",
   "metadata": {},
   "outputs": [
    {
     "data": {
      "text/plain": [
       "(2096, 46794)"
      ]
     },
     "execution_count": 73,
     "metadata": {},
     "output_type": "execute_result"
    }
   ],
   "source": [
    "\n",
    "tfid = TfidfTransformer(norm = \"l2\")\n",
    "tfid.fit(term_matrix)\n",
    "tf_matrix = tfid.fit_transform(term_matrix)\n",
    "tf_matrix.shape"
   ]
  },
  {
   "cell_type": "code",
   "execution_count": 74,
   "id": "6dbd828b",
   "metadata": {},
   "outputs": [],
   "source": [
    "x = tf_matrix.toarray()\n",
    "y = news_dataset[\"label\"].copy()\n"
   ]
  },
  {
   "cell_type": "code",
   "execution_count": 75,
   "id": "717f06b3",
   "metadata": {},
   "outputs": [],
   "source": [
    "X_train,X_test,y_train,y_test = train_test_split(tf_matrix, y,train_size = .5)\n",
    "\n",
    "gnb = MultinomialNB()\n",
    "\n",
    "\n"
   ]
  },
  {
   "cell_type": "code",
   "execution_count": 76,
   "id": "64903cb1",
   "metadata": {},
   "outputs": [
    {
     "name": "stdout",
     "output_type": "stream",
     "text": [
      "Real occurred 21. Fake occurred 1027\n"
     ]
    }
   ],
   "source": [
    "gnb.fit(X_train, y_train)\n",
    "y_pred = gnb.predict(X_test)\n",
    "count_one = 0\n",
    "count_two = 0\n",
    "for i in range(len(y_pred)):\n",
    "    if y_pred[i] == \"Real\":\n",
    "        count_one += 1\n",
    "    elif y_pred[i] == \"Fake\":\n",
    "        count_two += 1\n",
    "print(f\"Real occurred {count_one}. Fake occurred {count_two}\")"
   ]
  },
  {
   "cell_type": "code",
   "execution_count": 125,
   "id": "cff3dba8",
   "metadata": {},
   "outputs": [
    {
     "name": "stdout",
     "output_type": "stream",
     "text": [
      "Prediction with text: 0.6240458015267175\n"
     ]
    },
    {
     "data": {
      "text/plain": [
       "<matplotlib.legend.Legend at 0x7fdfb6a7a910>"
      ]
     },
     "execution_count": 125,
     "metadata": {},
     "output_type": "execute_result"
    },
    {
     "data": {
      "image/png": "[encoded data removed]",
      "text/plain": [
       "<Figure size 432x288 with 1 Axes>"
      ]
     },
     "metadata": {
      "needs_background": "light"
     },
     "output_type": "display_data"
    }
   ],
   "source": [
    "accuracy = gnb.score(X_test,y_test)\n",
    "     \n",
    "plt.hist(y_test,label = \"Real\")\n",
    "plt.hist(y_pred, label = \"Predicted\")\n",
    "plt.xlabel(\"Real or fake\")\n",
    "plt.ylabel(\"Times it was picked\")\n",
    "plt.title(\"Predictions based on the text\")\n",
    "print(f\"Prediction with text: {accuracy}\")\n",
    "plt.legend()\n"
   ]
  },
  {
   "cell_type": "code",
   "execution_count": 129,
   "id": "535e22fe",
   "metadata": {},
   "outputs": [],
   "source": [
    "title_vectorizer = CountVectorizer()\n",
    "title_vectorizer.fit_transform(title_vector)\n",
    "title_matrix = title_vectorizer.transform(title_vector)\n",
    "title_matrix = title_matrix.toarray()\n"
   ]
  },
  {
   "cell_type": "code",
   "execution_count": null,
   "id": "9d72de45",
   "metadata": {},
   "outputs": [],
   "source": [
    "title_id = TfidfTransformer(norm = \"l2\")\n",
    "title_id.fit(title_matrix)\n",
    "title_matrix = title_id.fit_transform(title_matrix)\n"
   ]
  },
  {
   "cell_type": "code",
   "execution_count": 130,
   "id": "c82804b5",
   "metadata": {},
   "outputs": [
    {
     "ename": "AttributeError",
     "evalue": "'numpy.ndarray' object has no attribute 'toarray'",
     "output_type": "error",
     "traceback": [
      "\u001b[0;31m---------------------------------------------------------------------------\u001b[0m",
      "\u001b[0;31mAttributeError\u001b[0m                            Traceback (most recent call last)",
      "\u001b[0;32m<ipython-input-130-77cbdff1777e>\u001b[0m in \u001b[0;36m<module>\u001b[0;34m\u001b[0m\n\u001b[0;32m----> 1\u001b[0;31m \u001b[0mx_titles\u001b[0m \u001b[0;34m=\u001b[0m \u001b[0mtitle_matrix\u001b[0m\u001b[0;34m.\u001b[0m\u001b[0mtoarray\u001b[0m\u001b[0;34m(\u001b[0m\u001b[0;34m)\u001b[0m\u001b[0;34m\u001b[0m\u001b[0;34m\u001b[0m\u001b[0m\n\u001b[0m\u001b[1;32m      2\u001b[0m \u001b[0mx_title_train\u001b[0m\u001b[0;34m,\u001b[0m\u001b[0mx_title_test\u001b[0m\u001b[0;34m,\u001b[0m\u001b[0my_title_train\u001b[0m\u001b[0;34m,\u001b[0m\u001b[0my_title_test\u001b[0m \u001b[0;34m=\u001b[0m \u001b[0mtrain_test_split\u001b[0m\u001b[0;34m(\u001b[0m\u001b[0mx_titles\u001b[0m\u001b[0;34m,\u001b[0m\u001b[0my\u001b[0m\u001b[0;34m,\u001b[0m\u001b[0mtest_size\u001b[0m \u001b[0;34m=\u001b[0m \u001b[0;36m.5\u001b[0m\u001b[0;34m,\u001b[0m\u001b[0mrandom_state\u001b[0m \u001b[0;34m=\u001b[0m \u001b[0;36m0\u001b[0m\u001b[0;34m)\u001b[0m\u001b[0;34m\u001b[0m\u001b[0;34m\u001b[0m\u001b[0m\n\u001b[1;32m      3\u001b[0m \u001b[0;34m\u001b[0m\u001b[0m\n\u001b[1;32m      4\u001b[0m \u001b[0;34m\u001b[0m\u001b[0m\n\u001b[1;32m      5\u001b[0m \u001b[0mtitle_gnb\u001b[0m \u001b[0;34m=\u001b[0m \u001b[0mMultinomialNB\u001b[0m\u001b[0;34m(\u001b[0m\u001b[0;34m)\u001b[0m\u001b[0;34m\u001b[0m\u001b[0;34m\u001b[0m\u001b[0m\n",
      "\u001b[0;31mAttributeError\u001b[0m: 'numpy.ndarray' object has no attribute 'toarray'"
     ]
    }
   ],
   "source": [
    "x_titles = title_matrix.toarray()\n",
    "x_title_train,x_title_test,y_title_train,y_title_test = train_test_split(x_titles,y,test_size = .5,random_state = 0)\n",
    "\n",
    "\n",
    "title_gnb = MultinomialNB()\n",
    "title_gnb.fit(x_title_train,y_title_train)\n",
    "title_pred = title_gnb.predict(x_title_test)"
   ]
  },
  {
   "cell_type": "code",
   "execution_count": 124,
   "id": "c55a65b8",
   "metadata": {},
   "outputs": [
    {
     "name": "stdout",
     "output_type": "stream",
     "text": [
      "Prediction with title: 0.6669847328244275\n"
     ]
    },
    {
     "data": {
      "text/plain": [
       "<matplotlib.legend.Legend at 0x7fdfb6b23820>"
      ]
     },
     "execution_count": 124,
     "metadata": {},
     "output_type": "execute_result"
    },
    {
     "data": {
      "image/png": "[encoded data removed]",
      "text/plain": [
       "<Figure size 432x288 with 1 Axes>"
      ]
     },
     "metadata": {
      "needs_background": "light"
     },
     "output_type": "display_data"
    }
   ],
   "source": [
    "title_accuracy = title_gnb.score(x_title_test,y_title_test)\n",
    "print(f\"Prediction with title: {title_accuracy}\")\n",
    "plt.xlabel(\"Real or fake\")\n",
    "plt.ylabel(\"Times it was picked\")\n",
    "plt.hist(y_title_test, label = \"Real\",align = 'mid')\n",
    "plt.hist(title_pred, label = \"Predicted\",align = 'left')\n",
    "plt.title(\"Predictions based on the title\")\n",
    "plt.legend()"
   ]
  },
  {
   "cell_type": "code",
   "execution_count": 82,
   "id": "62bd6aa6",
   "metadata": {},
   "outputs": [
    {
     "data": {
      "text/plain": [
       "Fake    1294\n",
       "Real     801\n",
       "           1\n",
       "Name: label, dtype: int64"
      ]
     },
     "execution_count": 82,
     "metadata": {},
     "output_type": "execute_result"
    }
   ],
   "source": [
    "label = news_dataset['label']\n",
    "label.value_counts()"
   ]
  },
  {
   "cell_type": "code",
   "execution_count": 83,
   "id": "3c8d9e6f",
   "metadata": {},
   "outputs": [
    {
     "data": {
      "text/html": [
       "<div>\n",
       "<style scoped>\n",
       "    .dataframe tbody tr th:only-of-type {\n",
       "        vertical-align: middle;\n",
       "    }\n",
       "\n",
       "    .dataframe tbody tr th {\n",
       "        vertical-align: top;\n",
       "    }\n",
       "\n",
       "    .dataframe thead th {\n",
       "        text-align: right;\n",
       "    }\n",
       "</style>\n",
       "<table border=\"1\" class=\"dataframe\">\n",
       "  <thead>\n",
       "    <tr style=\"text-align: right;\">\n",
       "      <th></th>\n",
       "      <th>author</th>\n",
       "      <th>published</th>\n",
       "      <th>title</th>\n",
       "      <th>text</th>\n",
       "      <th>language</th>\n",
       "      <th>site_url</th>\n",
       "      <th>main_img_url</th>\n",
       "      <th>type</th>\n",
       "      <th>label</th>\n",
       "      <th>title_without_stopwords</th>\n",
       "      <th>text_without_stopwords</th>\n",
       "      <th>hasImage</th>\n",
       "    </tr>\n",
       "  </thead>\n",
       "  <tbody>\n",
       "    <tr>\n",
       "      <th>0</th>\n",
       "      <td>Barracuda Brigade</td>\n",
       "      <td>2016-10-26T21:41:00.000+03:00</td>\n",
       "      <td>muslims busted they stole millions in govt ben...</td>\n",
       "      <td>print they should pay all the back all the mon...</td>\n",
       "      <td>english</td>\n",
       "      <td>100percentfedup.com</td>\n",
       "      <td>http://bb4sp.com/wp-content/uploads/2016/10/Fu...</td>\n",
       "      <td>bias</td>\n",
       "      <td>Real</td>\n",
       "      <td>muslims busted stole millions govt benefits</td>\n",
       "      <td>print pay back money plus interest entire fami...</td>\n",
       "      <td>1.0</td>\n",
       "    </tr>\n",
       "    <tr>\n",
       "      <th>1</th>\n",
       "      <td>reasoning with facts</td>\n",
       "      <td>2016-10-29T08:47:11.259+03:00</td>\n",
       "      <td>re why did attorney general loretta lynch plea...</td>\n",
       "      <td>why did attorney general loretta lynch plead t...</td>\n",
       "      <td>english</td>\n",
       "      <td>100percentfedup.com</td>\n",
       "      <td>http://bb4sp.com/wp-content/uploads/2016/10/Fu...</td>\n",
       "      <td>bias</td>\n",
       "      <td>Real</td>\n",
       "      <td>attorney general loretta lynch plead fifth</td>\n",
       "      <td>attorney general loretta lynch plead fifth bar...</td>\n",
       "      <td>1.0</td>\n",
       "    </tr>\n",
       "    <tr>\n",
       "      <th>2</th>\n",
       "      <td>Barracuda Brigade</td>\n",
       "      <td>2016-10-31T01:41:49.479+02:00</td>\n",
       "      <td>breaking weiner cooperating with fbi on hillar...</td>\n",
       "      <td>red state  \\nfox news sunday reported this mor...</td>\n",
       "      <td>english</td>\n",
       "      <td>100percentfedup.com</td>\n",
       "      <td>http://bb4sp.com/wp-content/uploads/2016/10/Fu...</td>\n",
       "      <td>bias</td>\n",
       "      <td>Real</td>\n",
       "      <td>breaking weiner cooperating fbi hillary email ...</td>\n",
       "      <td>red state fox news sunday reported morning ant...</td>\n",
       "      <td>1.0</td>\n",
       "    </tr>\n",
       "    <tr>\n",
       "      <th>3</th>\n",
       "      <td>Fed Up</td>\n",
       "      <td>2016-11-01T05:22:00.000+02:00</td>\n",
       "      <td>pin drop speech by father of daughter kidnappe...</td>\n",
       "      <td>email kayla mueller was a prisoner and torture...</td>\n",
       "      <td>english</td>\n",
       "      <td>100percentfedup.com</td>\n",
       "      <td>http://100percentfedup.com/wp-content/uploads/...</td>\n",
       "      <td>bias</td>\n",
       "      <td>Real</td>\n",
       "      <td>pin drop speech father daughter kidnapped kill...</td>\n",
       "      <td>email kayla mueller prisoner tortured isis cha...</td>\n",
       "      <td>1.0</td>\n",
       "    </tr>\n",
       "    <tr>\n",
       "      <th>4</th>\n",
       "      <td>Fed Up</td>\n",
       "      <td>2016-11-01T21:56:00.000+02:00</td>\n",
       "      <td>fantastic trumps  point plan to reform healthc...</td>\n",
       "      <td>email healthcare reform to make america great ...</td>\n",
       "      <td>english</td>\n",
       "      <td>100percentfedup.com</td>\n",
       "      <td>http://100percentfedup.com/wp-content/uploads/...</td>\n",
       "      <td>bias</td>\n",
       "      <td>Real</td>\n",
       "      <td>fantastic trumps point plan reform healthcare ...</td>\n",
       "      <td>email healthcare reform make america great sin...</td>\n",
       "      <td>1.0</td>\n",
       "    </tr>\n",
       "    <tr>\n",
       "      <th>...</th>\n",
       "      <td>...</td>\n",
       "      <td>...</td>\n",
       "      <td>...</td>\n",
       "      <td>...</td>\n",
       "      <td>...</td>\n",
       "      <td>...</td>\n",
       "      <td>...</td>\n",
       "      <td>...</td>\n",
       "      <td>...</td>\n",
       "      <td>...</td>\n",
       "      <td>...</td>\n",
       "      <td>...</td>\n",
       "    </tr>\n",
       "    <tr>\n",
       "      <th>2091</th>\n",
       "      <td>-NO AUTHOR-</td>\n",
       "      <td>2016-10-27T15:36:10.573+03:00</td>\n",
       "      <td>teens walk free after gangrape conviction</td>\n",
       "      <td></td>\n",
       "      <td>english</td>\n",
       "      <td>wnd.com</td>\n",
       "      <td>http://www.wnd.com/files/2016/10/hillary_haunt...</td>\n",
       "      <td>bias</td>\n",
       "      <td>Real</td>\n",
       "      <td>good samaritan wearing indian headdress disarm...</td>\n",
       "      <td></td>\n",
       "      <td>1.0</td>\n",
       "    </tr>\n",
       "    <tr>\n",
       "      <th>2092</th>\n",
       "      <td>-NO AUTHOR-</td>\n",
       "      <td>2016-10-27T15:36:10.671+03:00</td>\n",
       "      <td>school named for munichmassacre mastermind</td>\n",
       "      <td></td>\n",
       "      <td>english</td>\n",
       "      <td>wnd.com</td>\n",
       "      <td>http://www.wnd.com/files/2016/10/rambo_richard...</td>\n",
       "      <td>bias</td>\n",
       "      <td>Real</td>\n",
       "      <td>skype sex scam fortune built shame</td>\n",
       "      <td></td>\n",
       "      <td>1.0</td>\n",
       "    </tr>\n",
       "    <tr>\n",
       "      <th>2093</th>\n",
       "      <td>-NO AUTHOR-</td>\n",
       "      <td>2016-10-27T13:30:00.000+03:00</td>\n",
       "      <td>russia unveils satan  missile</td>\n",
       "      <td></td>\n",
       "      <td>english</td>\n",
       "      <td>wnd.com</td>\n",
       "      <td>http://www.wnd.com/files/2016/10/skype_sex_sca...</td>\n",
       "      <td>bs</td>\n",
       "      <td>Fake</td>\n",
       "      <td>cannabis aficionados develop thca crystalline ...</td>\n",
       "      <td></td>\n",
       "      <td>1.0</td>\n",
       "    </tr>\n",
       "    <tr>\n",
       "      <th>2094</th>\n",
       "      <td>-NO AUTHOR-</td>\n",
       "      <td>2016-10-27T15:58:41.935+03:00</td>\n",
       "      <td>check out hillarythemed haunted house</td>\n",
       "      <td></td>\n",
       "      <td>english</td>\n",
       "      <td>wnd.com</td>\n",
       "      <td>http://worldtruth.tv/wp-content/uploads/2016/1...</td>\n",
       "      <td>bs</td>\n",
       "      <td>Fake</td>\n",
       "      <td>title</td>\n",
       "      <td></td>\n",
       "      <td>0.0</td>\n",
       "    </tr>\n",
       "    <tr>\n",
       "      <th>2095</th>\n",
       "      <td>Eddy Lavine</td>\n",
       "      <td>2016-10-28T01:02:00.000+03:00</td>\n",
       "      <td>cannabis aficionados develop thca crystalline ...</td>\n",
       "      <td></td>\n",
       "      <td></td>\n",
       "      <td></td>\n",
       "      <td></td>\n",
       "      <td></td>\n",
       "      <td></td>\n",
       "      <td></td>\n",
       "      <td></td>\n",
       "      <td></td>\n",
       "    </tr>\n",
       "  </tbody>\n",
       "</table>\n",
       "<p>2096 rows × 12 columns</p>\n",
       "</div>"
      ],
      "text/plain": [
       "                    author                      published  \\\n",
       "0        Barracuda Brigade  2016-10-26T21:41:00.000+03:00   \n",
       "1     reasoning with facts  2016-10-29T08:47:11.259+03:00   \n",
       "2        Barracuda Brigade  2016-10-31T01:41:49.479+02:00   \n",
       "3                   Fed Up  2016-11-01T05:22:00.000+02:00   \n",
       "4                   Fed Up  2016-11-01T21:56:00.000+02:00   \n",
       "...                    ...                            ...   \n",
       "2091           -NO AUTHOR-  2016-10-27T15:36:10.573+03:00   \n",
       "2092           -NO AUTHOR-  2016-10-27T15:36:10.671+03:00   \n",
       "2093           -NO AUTHOR-  2016-10-27T13:30:00.000+03:00   \n",
       "2094           -NO AUTHOR-  2016-10-27T15:58:41.935+03:00   \n",
       "2095           Eddy Lavine  2016-10-28T01:02:00.000+03:00   \n",
       "\n",
       "                                                  title  \\\n",
       "0     muslims busted they stole millions in govt ben...   \n",
       "1     re why did attorney general loretta lynch plea...   \n",
       "2     breaking weiner cooperating with fbi on hillar...   \n",
       "3     pin drop speech by father of daughter kidnappe...   \n",
       "4     fantastic trumps  point plan to reform healthc...   \n",
       "...                                                 ...   \n",
       "2091          teens walk free after gangrape conviction   \n",
       "2092         school named for munichmassacre mastermind   \n",
       "2093                      russia unveils satan  missile   \n",
       "2094              check out hillarythemed haunted house   \n",
       "2095  cannabis aficionados develop thca crystalline ...   \n",
       "\n",
       "                                                   text language  \\\n",
       "0     print they should pay all the back all the mon...  english   \n",
       "1     why did attorney general loretta lynch plead t...  english   \n",
       "2     red state  \\nfox news sunday reported this mor...  english   \n",
       "3     email kayla mueller was a prisoner and torture...  english   \n",
       "4     email healthcare reform to make america great ...  english   \n",
       "...                                                 ...      ...   \n",
       "2091                                                     english   \n",
       "2092                                                     english   \n",
       "2093                                                     english   \n",
       "2094                                                     english   \n",
       "2095                                                               \n",
       "\n",
       "                 site_url                                       main_img_url  \\\n",
       "0     100percentfedup.com  http://bb4sp.com/wp-content/uploads/2016/10/Fu...   \n",
       "1     100percentfedup.com  http://bb4sp.com/wp-content/uploads/2016/10/Fu...   \n",
       "2     100percentfedup.com  http://bb4sp.com/wp-content/uploads/2016/10/Fu...   \n",
       "3     100percentfedup.com  http://100percentfedup.com/wp-content/uploads/...   \n",
       "4     100percentfedup.com  http://100percentfedup.com/wp-content/uploads/...   \n",
       "...                   ...                                                ...   \n",
       "2091              wnd.com  http://www.wnd.com/files/2016/10/hillary_haunt...   \n",
       "2092              wnd.com  http://www.wnd.com/files/2016/10/rambo_richard...   \n",
       "2093              wnd.com  http://www.wnd.com/files/2016/10/skype_sex_sca...   \n",
       "2094              wnd.com  http://worldtruth.tv/wp-content/uploads/2016/1...   \n",
       "2095                                                                           \n",
       "\n",
       "      type label                            title_without_stopwords  \\\n",
       "0     bias  Real        muslims busted stole millions govt benefits   \n",
       "1     bias  Real         attorney general loretta lynch plead fifth   \n",
       "2     bias  Real  breaking weiner cooperating fbi hillary email ...   \n",
       "3     bias  Real  pin drop speech father daughter kidnapped kill...   \n",
       "4     bias  Real  fantastic trumps point plan reform healthcare ...   \n",
       "...    ...   ...                                                ...   \n",
       "2091  bias  Real  good samaritan wearing indian headdress disarm...   \n",
       "2092  bias  Real                 skype sex scam fortune built shame   \n",
       "2093    bs  Fake  cannabis aficionados develop thca crystalline ...   \n",
       "2094    bs  Fake                                              title   \n",
       "2095                                                                  \n",
       "\n",
       "                                 text_without_stopwords hasImage  \n",
       "0     print pay back money plus interest entire fami...      1.0  \n",
       "1     attorney general loretta lynch plead fifth bar...      1.0  \n",
       "2     red state fox news sunday reported morning ant...      1.0  \n",
       "3     email kayla mueller prisoner tortured isis cha...      1.0  \n",
       "4     email healthcare reform make america great sin...      1.0  \n",
       "...                                                 ...      ...  \n",
       "2091                                                         1.0  \n",
       "2092                                                         1.0  \n",
       "2093                                                         1.0  \n",
       "2094                                                         0.0  \n",
       "2095                                                              \n",
       "\n",
       "[2096 rows x 12 columns]"
      ]
     },
     "execution_count": 83,
     "metadata": {},
     "output_type": "execute_result"
    }
   ],
   "source": [
    "news_dataset"
   ]
  },
  {
   "cell_type": "code",
   "execution_count": 101,
   "id": "4774414e",
   "metadata": {},
   "outputs": [
    {
     "data": {
      "text/plain": [
       "0      print pay back money plus interest entire fami...\n",
       "1      attorney general loretta lynch plead fifth bar...\n",
       "2      red state fox news sunday reported morning ant...\n",
       "3      email kayla mueller prisoner tortured isis cha...\n",
       "4      email healthcare reform make america great sin...\n",
       "                             ...                        \n",
       "973    zu wild geschaukelt spielendes kind stürzt ben...\n",
       "974    freitag november musik statt lärm erster laubb...\n",
       "975    samstag november schlagstöcke und pyrotechnik ...\n",
       "976    morgen pams kommt die nächste flüchtlingswelle...\n",
       "977    sonntag november forscher entdecken abgelegene...\n",
       "Name: text_without_stopwords, Length: 1601, dtype: object"
      ]
     },
     "execution_count": 101,
     "metadata": {},
     "output_type": "execute_result"
    }
   ],
   "source": [
    "false = news_dataset[\"label\"] == \"Fake\"\n",
    "false_dataset = news_dataset[false]\n",
    "false_dataset = false_dataset[:800]\n",
    "\n",
    "real = news_dataset[\"label\"] == \"Real\"\n",
    "real_dataset = news_dataset[real]\n",
    "\n",
    "real_dataset = real_dataset.append(false_dataset)\n",
    "updated_vector = real_dataset[\"text_without_stopwords\"]\n",
    "updated_vector"
   ]
  },
  {
   "cell_type": "code",
   "execution_count": 102,
   "id": "f435ad8a",
   "metadata": {},
   "outputs": [],
   "source": [
    "updated_vectorizer = CountVectorizer()\n",
    "updated_vectorizer.fit_transform(updated_vector)\n",
    "updated_matrix = updated_vectorizer.transform(updated_vector)\n",
    "updated_matrix = updated_matrix.toarray()\n"
   ]
  },
  {
   "cell_type": "code",
   "execution_count": 103,
   "id": "6b70d110",
   "metadata": {},
   "outputs": [],
   "source": [
    "updated_id = TfidfTransformer(norm = \"l2\")\n",
    "updated_id.fit(updated_matrix)\n",
    "updated_matrix = updated_id.fit_transform(updated_matrix)"
   ]
  },
  {
   "cell_type": "code",
   "execution_count": 104,
   "id": "be911e14",
   "metadata": {},
   "outputs": [],
   "source": [
    "x_updated = updated_matrix.toarray()\n",
    "new_y = real_dataset['label']\n",
    "x_updated_train,x_updated_test,y_updated_train,y_updated_test = train_test_split(x_updated,new_y,test_size = .5,random_state = 0)\n",
    "\n",
    "\n",
    "updated_gnb = MultinomialNB()\n",
    "updated_gnb.fit(x_updated_train,y_updated_train)\n",
    "updated_pred = updated_gnb.predict(x_updated_test)\n",
    "\n",
    "\n"
   ]
  },
  {
   "cell_type": "code",
   "execution_count": 126,
   "id": "de3a870a",
   "metadata": {},
   "outputs": [
    {
     "name": "stdout",
     "output_type": "stream",
     "text": [
      "Prediction wtih updated dataset: 0.7940074906367042\n"
     ]
    }
   ],
   "source": [
    "updated_accuracy = updated_gnb.score(x_updated_test,y_updated_test)\n",
    "print(f\"Prediction wtih updated dataset: {updated_accuracy}\")"
   ]
  },
  {
   "cell_type": "code",
   "execution_count": 112,
   "id": "b68edb4f",
   "metadata": {},
   "outputs": [
    {
     "data": {
      "text/plain": [
       "<matplotlib.legend.Legend at 0x7fdfb709f220>"
      ]
     },
     "execution_count": 112,
     "metadata": {},
     "output_type": "execute_result"
    },
    {
     "data": {
      "image/png": "[encoded data removed]",
      "text/plain": [
       "<Figure size 432x288 with 1 Axes>"
      ]
     },
     "metadata": {
      "needs_background": "light"
     },
     "output_type": "display_data"
    }
   ],
   "source": [
    "plt.xlabel(\"Real or fake\")\n",
    "plt.ylabel(\"Times it was picked\")\n",
    "plt.title(\"New dataset predictions\")\n",
    "plt.hist(updated_pred, label = \"Predicted\",align= 'left')\n",
    "plt.hist(y_updated_test, label = \"Real\",align = \"mid\")\n",
    "plt.legend()\n"
   ]
  },
  {
   "cell_type": "code",
   "execution_count": null,
   "id": "22ff8fc7",
   "metadata": {},
   "outputs": [],
   "source": []
  }
 ],
 "metadata": {
  "kernelspec": {
   "display_name": "Python 3",
   "language": "python",
   "name": "python3"
  },
  "language_info": {
   "codemirror_mode": {
    "name": "ipython",
    "version": 3
   },
   "file_extension": ".py",
   "mimetype": "text/x-python",
   "name": "python",
   "nbconvert_exporter": "python",
   "pygments_lexer": "ipython3",
   "version": "3.8.8"
  }
 },
 "nbformat": 4,
 "nbformat_minor": 5
}
